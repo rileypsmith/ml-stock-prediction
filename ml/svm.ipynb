{
 "cells": [
  {
   "cell_type": "code",
   "execution_count": 1,
   "metadata": {},
   "outputs": [],
   "source": [
    "# Import modules\n",
    "from sklearn.svm import SVC\n",
    "from sklearn.model_selection import GridSearchCV\n",
    "\n",
    "# Setup system path to import local modules\n",
    "import os\n",
    "import sys\n",
    "module_path = os.path.abspath(os.path.join('..'))\n",
    "if module_path not in sys.path:\n",
    "    sys.path.append(module_path)\n",
    "\n",
    "from data import StockDataset\n",
    "from utils import TICKERS, predict_direction, predict_close\n",
    "import metrics as mymetrics\n",
    "import graph_utils as graph"
   ]
  },
  {
   "cell_type": "code",
   "execution_count": 2,
   "metadata": {},
   "outputs": [
    {
     "name": "stderr",
     "output_type": "stream",
     "text": [
      "\r",
      "  0%|                                                                                            | 0/1 [00:00<?, ?it/s]"
     ]
    },
    {
     "name": "stdout",
     "output_type": "stream",
     "text": [
      "Initializing data...\n"
     ]
    },
    {
     "name": "stderr",
     "output_type": "stream",
     "text": [
      "100%|████████████████████████████████████████████████████████████████████████████████████| 1/1 [00:01<00:00,  1.66s/it]"
     ]
    },
    {
     "name": "stdout",
     "output_type": "stream",
     "text": [
      "Done.\n",
      "Train data shape: (994, 6)\n",
      "Val data shape: (248, 6)\n"
     ]
    },
    {
     "name": "stderr",
     "output_type": "stream",
     "text": [
      "\n"
     ]
    }
   ],
   "source": [
    "### Let's test some different hyperparameters for direction prediction\n",
    "\n",
    "# Build and split dataset. We'll use MSFT to test for best hyperparameters\n",
    "# Also drop some fields like high, low, and open\n",
    "ds = StockDataset(tickers='MSFT', delta=1, keep_volume=False)\n",
    "ds.drop(fields=['High', 'Low', 'Open'])\n",
    "t_data, v_data, t_label, v_label = ds.split(label_field='Direction')\n",
    "\n",
    "print('Train data shape:', t_data.shape)\n",
    "print('Val data shape:', v_data.shape)"
   ]
  },
  {
   "cell_type": "code",
   "execution_count": 3,
   "metadata": {},
   "outputs": [
    {
     "name": "stderr",
     "output_type": "stream",
     "text": [
      "[Parallel(n_jobs=2)]: Using backend LokyBackend with 2 concurrent workers.\n"
     ]
    },
    {
     "name": "stdout",
     "output_type": "stream",
     "text": [
      "Fitting 5 folds for each of 72 candidates, totalling 360 fits\n"
     ]
    },
    {
     "name": "stderr",
     "output_type": "stream",
     "text": [
      "[Parallel(n_jobs=2)]: Done  28 tasks      | elapsed:    6.9s\n",
      "[Parallel(n_jobs=2)]: Done 166 tasks      | elapsed:   16.8s\n",
      "[Parallel(n_jobs=2)]: Done 360 out of 360 | elapsed:   33.4s finished\n"
     ]
    }
   ],
   "source": [
    "# Set hyperparameters to test\n",
    "hyperparameters = {\n",
    "    'C': [0.5, 1.0, 1.5],\n",
    "    'kernel': ['linear', 'poly', 'rbf', 'sigmoid'],\n",
    "    'degree': [3, 4, 5],\n",
    "    'gamma': ['scale', 'auto']\n",
    "}\n",
    "\n",
    "# Build direction classifier with 1000 estimators\n",
    "direction_clf = SVC()\n",
    "\n",
    "# Use built-in sklearn class to test different hyperparameters (may take awhile)\n",
    "grid_search = GridSearchCV(direction_clf, hyperparameters, n_jobs=2, verbose=3).fit(t_data, t_label)"
   ]
  },
  {
   "cell_type": "code",
   "execution_count": 4,
   "metadata": {},
   "outputs": [],
   "source": [
    "# Get best parameters\n",
    "best_params = grid_search.best_params_\n",
    "c = best_params['C']\n",
    "kernel = best_params['kernel']\n",
    "degree = best_params['degree']\n",
    "gamma = best_params['gamma']"
   ]
  },
  {
   "cell_type": "code",
   "execution_count": 5,
   "metadata": {},
   "outputs": [
    {
     "name": "stderr",
     "output_type": "stream",
     "text": [
      "100%|██████████████████████████████████████████████████████████████████████████████████| 10/10 [00:46<00:00,  4.61s/it]\n"
     ]
    }
   ],
   "source": [
    "### Now let's see how we do on all 10 stocks\n",
    "\n",
    "# Build a classifier with our discovered parameters\n",
    "clf = SVC(C=c, kernel=kernel, degree=degree, gamma=gamma)\n",
    "\n",
    "# Use our previously created function to predict the direction\n",
    "direction_results = predict_direction(clf, TICKERS, delta=1, keep_volume=False)"
   ]
  },
  {
   "cell_type": "code",
   "execution_count": 6,
   "metadata": {},
   "outputs": [
    {
     "data": {
      "image/png": "[encoded data removed]",
      "text/plain": [
       "<Figure size 864x432 with 1 Axes>"
      ]
     },
     "metadata": {
      "needs_background": "light"
     },
     "output_type": "display_data"
    }
   ],
   "source": [
    "# And let's plot the accuracy for each ticker\n",
    "graph.plot_direction_accuracy(direction_results)"
   ]
  },
  {
   "cell_type": "code",
   "execution_count": null,
   "metadata": {},
   "outputs": [],
   "source": []
  }
 ],
 "metadata": {
  "kernelspec": {
   "display_name": "Python 3",
   "language": "python",
   "name": "python3"
  },
  "language_info": {
   "codemirror_mode": {
    "name": "ipython",
    "version": 3
   },
   "file_extension": ".py",
   "mimetype": "text/x-python",
   "name": "python",
   "nbconvert_exporter": "python",
   "pygments_lexer": "ipython3",
   "version": "3.8.5"
  }
 },
 "nbformat": 4,
 "nbformat_minor": 4
}
